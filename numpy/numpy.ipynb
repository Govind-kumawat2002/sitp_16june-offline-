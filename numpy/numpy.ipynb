{
 "cells": [
  {
   "cell_type": "code",
   "execution_count": null,
   "id": "49253d13",
   "metadata": {},
   "outputs": [],
   "source": [
    "import numpy as np ## importing numpy , import is key word , as is alias , np is alias \n",
    "print(np.__version__) "
   ]
  },
  {
   "cell_type": "code",
   "execution_count": null,
   "id": "2b2975b7",
   "metadata": {},
   "outputs": [],
   "source": [
    "lst = [1,2,3,4,5,5,5]\n",
    "print(lst)\n",
    "print(\"type of list :-\",type(lst))"
   ]
  },
  {
   "cell_type": "code",
   "execution_count": null,
   "id": "40ea4a13",
   "metadata": {},
   "outputs": [],
   "source": [
    "arr =np.array(lst)\n",
    "print(arr)\n",
    "print(\"type of array :-\",type(arr))"
   ]
  },
  {
   "cell_type": "code",
   "execution_count": null,
   "id": "3e03e9a6",
   "metadata": {},
   "outputs": [],
   "source": [
    "lst =list(range(1,10))\n",
    "print(type(lst))\n",
    "arr =np.array(lst)\n",
    "arr "
   ]
  },
  {
   "cell_type": "code",
   "execution_count": null,
   "id": "0d395521",
   "metadata": {},
   "outputs": [],
   "source": [
    "arr = np.arange(1,10)\n",
    "arr "
   ]
  },
  {
   "cell_type": "code",
   "execution_count": null,
   "id": "9021f4a0",
   "metadata": {},
   "outputs": [],
   "source": [
    "np.zeros(5)"
   ]
  },
  {
   "cell_type": "code",
   "execution_count": null,
   "id": "969976f2",
   "metadata": {},
   "outputs": [],
   "source": [
    "np.ones(5)"
   ]
  },
  {
   "cell_type": "code",
   "execution_count": null,
   "id": "77229681",
   "metadata": {},
   "outputs": [],
   "source": [
    "np.linspace(1,10,20)"
   ]
  },
  {
   "cell_type": "code",
   "execution_count": null,
   "id": "f4e7f1d1",
   "metadata": {},
   "outputs": [],
   "source": [
    "np.zeros((5,5))"
   ]
  },
  {
   "cell_type": "code",
   "execution_count": null,
   "id": "1226fe23",
   "metadata": {},
   "outputs": [],
   "source": [
    "np.ones((5,5))"
   ]
  },
  {
   "cell_type": "code",
   "execution_count": null,
   "id": "7c8c8ca9",
   "metadata": {},
   "outputs": [],
   "source": [
    "arr =np.arange(1,31)"
   ]
  },
  {
   "cell_type": "code",
   "execution_count": null,
   "id": "c3fbe7c2",
   "metadata": {},
   "outputs": [],
   "source": [
    "arr.reshape(10,3)"
   ]
  },
  {
   "cell_type": "code",
   "execution_count": null,
   "id": "26eada48",
   "metadata": {},
   "outputs": [],
   "source": [
    "arr=np.random.randint(1,5,9)\n",
    "arr"
   ]
  },
  {
   "cell_type": "code",
   "execution_count": null,
   "id": "22bc6194",
   "metadata": {},
   "outputs": [],
   "source": [
    "arr=np.random.randint(1,5,(5,2))\n",
    "arr"
   ]
  },
  {
   "cell_type": "code",
   "execution_count": null,
   "id": "86456c8d",
   "metadata": {},
   "outputs": [],
   "source": [
    "np.random.random((5,2))"
   ]
  },
  {
   "cell_type": "code",
   "execution_count": null,
   "id": "ea7659f0",
   "metadata": {},
   "outputs": [],
   "source": [
    "arr=np.arange(60).reshape(12,5)"
   ]
  },
  {
   "cell_type": "code",
   "execution_count": null,
   "id": "942bff83",
   "metadata": {},
   "outputs": [],
   "source": [
    "arr"
   ]
  },
  {
   "cell_type": "code",
   "execution_count": null,
   "id": "28ecc46b",
   "metadata": {},
   "outputs": [],
   "source": [
    "print(\"array shape:-\",arr.shape)\n",
    "print(\"size of array:-\",arr.size)\n",
    "print(\"number of dim:-\",arr.ndim)\n",
    "print(\"dtype of array:-\",arr.dtype)"
   ]
  },
  {
   "cell_type": "code",
   "execution_count": null,
   "id": "1465adf7",
   "metadata": {},
   "outputs": [],
   "source": [
    "# 2D aaray covert into 1d\n",
    "arr =arr.flatten()"
   ]
  },
  {
   "cell_type": "code",
   "execution_count": null,
   "id": "0db024f5",
   "metadata": {},
   "outputs": [],
   "source": [
    "# arr.ravel()"
   ]
  },
  {
   "cell_type": "code",
   "execution_count": null,
   "id": "c1175612",
   "metadata": {},
   "outputs": [],
   "source": [
    "print(\"array shape:-\",arr.shape)\n",
    "print(\"size of array:-\",arr.size)\n",
    "print(\"number of dim:-\",arr.ndim)\n",
    "print(\"dtype of array:-\",arr.dtype)"
   ]
  },
  {
   "cell_type": "code",
   "execution_count": null,
   "id": "6839a799",
   "metadata": {},
   "outputs": [],
   "source": [
    "arr =np.arange(60).reshape(12,5)"
   ]
  },
  {
   "cell_type": "code",
   "execution_count": null,
   "id": "e9555b6e",
   "metadata": {},
   "outputs": [],
   "source": [
    "arr "
   ]
  },
  {
   "cell_type": "code",
   "execution_count": null,
   "id": "6cc94ef5",
   "metadata": {},
   "outputs": [],
   "source": [
    "arr.T.shape "
   ]
  },
  {
   "cell_type": "code",
   "execution_count": null,
   "id": "da1a6ad2",
   "metadata": {},
   "outputs": [],
   "source": [
    "arr.T"
   ]
  },
  {
   "cell_type": "code",
   "execution_count": null,
   "id": "6816594f",
   "metadata": {},
   "outputs": [],
   "source": [
    "arr "
   ]
  },
  {
   "cell_type": "code",
   "execution_count": null,
   "id": "c00faae5",
   "metadata": {},
   "outputs": [],
   "source": [
    "arr[0][1]"
   ]
  },
  {
   "cell_type": "code",
   "execution_count": null,
   "id": "9cb9ad3b",
   "metadata": {},
   "outputs": [],
   "source": [
    "arr[0:2]"
   ]
  },
  {
   "cell_type": "code",
   "execution_count": null,
   "id": "e18a14de",
   "metadata": {},
   "outputs": [],
   "source": [
    "arr[-1][-1]=100"
   ]
  },
  {
   "cell_type": "code",
   "execution_count": null,
   "id": "13aa7f58",
   "metadata": {},
   "outputs": [],
   "source": [
    "arr"
   ]
  },
  {
   "cell_type": "code",
   "execution_count": null,
   "id": "371ca8b0",
   "metadata": {},
   "outputs": [],
   "source": [
    "arr =np.array(np.arange(225).reshape(5,15,3))"
   ]
  },
  {
   "cell_type": "code",
   "execution_count": null,
   "id": "9dc47c22",
   "metadata": {},
   "outputs": [],
   "source": [
    "arr[0:2,1:3,1:3]"
   ]
  },
  {
   "cell_type": "code",
   "execution_count": null,
   "id": "5c7d868a",
   "metadata": {},
   "outputs": [],
   "source": [
    "min(arr)"
   ]
  },
  {
   "cell_type": "code",
   "execution_count": null,
   "id": "c82c2aed",
   "metadata": {},
   "outputs": [],
   "source": [
    "max(arr)"
   ]
  },
  {
   "cell_type": "code",
   "execution_count": null,
   "id": "be7c5356",
   "metadata": {},
   "outputs": [],
   "source": []
  }
 ],
 "metadata": {
  "kernelspec": {
   "display_name": "Python 3",
   "language": "python",
   "name": "python3"
  },
  "language_info": {
   "codemirror_mode": {
    "name": "ipython",
    "version": 3
   },
   "file_extension": ".py",
   "mimetype": "text/x-python",
   "name": "python",
   "nbconvert_exporter": "python",
   "pygments_lexer": "ipython3",
   "version": "3.11.5"
  }
 },
 "nbformat": 4,
 "nbformat_minor": 5
}
