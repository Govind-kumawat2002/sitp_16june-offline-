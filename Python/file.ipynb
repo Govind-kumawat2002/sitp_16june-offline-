{
 "cells": [
  {
   "cell_type": "code",
   "execution_count": 2,
   "id": "442df74b",
   "metadata": {},
   "outputs": [],
   "source": [
    "# open('demo.txt','mode')\n",
    "file=open('demo.txt','r')\n",
    "file.read()\n",
    "file.close()\n"
   ]
  },
  {
   "cell_type": "code",
   "execution_count": 4,
   "id": "2fd5f2e3",
   "metadata": {},
   "outputs": [],
   "source": [
    "file=open('demo.txt','w')\n",
    "file.write('hello')\n",
    "file.close()"
   ]
  },
  {
   "cell_type": "code",
   "execution_count": 7,
   "id": "12da2359",
   "metadata": {},
   "outputs": [],
   "source": [
    "file=open('demo.txt','r')\n",
    "file.read()\n",
    "file.close()\n"
   ]
  },
  {
   "cell_type": "code",
   "execution_count": null,
   "id": "0a191bd2",
   "metadata": {},
   "outputs": [],
   "source": [
    "file=open('demo.txt','w')\n",
    "file.write('my self harshita')\n",
    "file.close()\n"
   ]
  },
  {
   "cell_type": "code",
   "execution_count": 12,
   "id": "af578e1f",
   "metadata": {},
   "outputs": [],
   "source": [
    "file=open('demo.txt','r')\n",
    "file.read()\n",
    "file.close()\n"
   ]
  },
  {
   "cell_type": "code",
   "execution_count": 21,
   "id": "c6c81ef4",
   "metadata": {},
   "outputs": [],
   "source": [
    "file=open('demo.txt','a')\n",
    "file.write(' and my friend is isha')\n",
    "file.close()"
   ]
  },
  {
   "cell_type": "code",
   "execution_count": 22,
   "id": "70469a18",
   "metadata": {},
   "outputs": [
    {
     "data": {
      "text/plain": [
       "'my self haeshitamy friend is isha and my friend is isha and my friend is isha'"
      ]
     },
     "execution_count": 22,
     "metadata": {},
     "output_type": "execute_result"
    }
   ],
   "source": [
    "file=open('demo.txt' ,'r')\n",
    "file.read()\n",
    "\n"
   ]
  },
  {
   "cell_type": "code",
   "execution_count": 23,
   "id": "2f1e332c",
   "metadata": {},
   "outputs": [],
   "source": [
    "file=open('demo1.txt','a')\n",
    "file.write(' and my friend is isha')\n",
    "file.close()"
   ]
  },
  {
   "cell_type": "code",
   "execution_count": 25,
   "id": "ac95b9b1",
   "metadata": {},
   "outputs": [],
   "source": [
    "file=open('demo1.txt' ,'r')\n",
    "file.read()\n",
    "file.close()\n",
    "\n"
   ]
  },
  {
   "cell_type": "code",
   "execution_count": 29,
   "id": "92fbd4a7",
   "metadata": {},
   "outputs": [],
   "source": [
    "file=open('new.txt','x')\n",
    "file.write(' present')\n",
    "file.close()"
   ]
  },
  {
   "cell_type": "code",
   "execution_count": 44,
   "id": "b289a952",
   "metadata": {},
   "outputs": [
    {
     "name": "stdout",
     "output_type": "stream",
     "text": [
      "my self haeshitamy friend is isha and my friend is isha and my friend is isha\n"
     ]
    }
   ],
   "source": [
    "with open(\"demo.txt\",\"r\") as file:  \n",
    "    print(file.read())"
   ]
  },
  {
   "cell_type": "code",
   "execution_count": 43,
   "id": "eb51237c",
   "metadata": {},
   "outputs": [
    {
     "data": {
      "text/plain": [
       "['my self haeshitamy friend is isha and my friend is isha and my friend is isha']"
      ]
     },
     "execution_count": 43,
     "metadata": {},
     "output_type": "execute_result"
    }
   ],
   "source": [
    "file=open('demo.txt','r')\n",
    "file.readlines()"
   ]
  },
  {
   "cell_type": "code",
   "execution_count": 33,
   "id": "5859bafd",
   "metadata": {},
   "outputs": [],
   "source": [
    "try:\n",
    "    pass\n",
    "except:\n",
    "    pass\n",
    "else:\n",
    "\n",
    "    pass\n",
    "finally:\n",
    "    pass"
   ]
  },
  {
   "cell_type": "code",
   "execution_count": 35,
   "id": "bc43a9ba",
   "metadata": {},
   "outputs": [
    {
     "name": "stdout",
     "output_type": "stream",
     "text": [
      "0 mt dalo  division by zero\n"
     ]
    }
   ],
   "source": [
    "try:\n",
    "    num =int(input(\"enter a number\"))\n",
    "    print(10/num)\n",
    "\n",
    "except ZeroDivisionError as e :\n",
    "    print(\"0 mt dalo \",e )"
   ]
  },
  {
   "cell_type": "code",
   "execution_count": 37,
   "id": "325b1f7d",
   "metadata": {},
   "outputs": [
    {
     "name": "stdout",
     "output_type": "stream",
     "text": [
      "this is else block \n",
      "5.0\n",
      "Thank you\n"
     ]
    }
   ],
   "source": [
    "try:\n",
    "    num =int(input(\"enter a number\"))\n",
    "    result=10/num\n",
    "\n",
    "except ZeroDivisionError as e :\n",
    "    print(\"0 mt dalo \",e )\n",
    "else:\n",
    "    print(\"this is else block \")\n",
    "    print(result)\n",
    "finally:\n",
    "    print(\"Thank you\")\n"
   ]
  },
  {
   "cell_type": "code",
   "execution_count": 40,
   "id": "ba0af40e",
   "metadata": {},
   "outputs": [
    {
     "name": "stdout",
     "output_type": "stream",
     "text": [
      "Char mt dalo  invalid literal for int() with base 10: 'hello'\n",
      "Thank you\n"
     ]
    }
   ],
   "source": [
    "try:\n",
    "    num =int(input(\"enter a number\"))\n",
    "    result=10/num\n",
    "except ZeroDivisionError as e :\n",
    "    print(\"0 mt dalo \",e )\n",
    "except ValueError as e :\n",
    "    print(\"Char mt dalo \", e )\n",
    "else:\n",
    "    print(\"this is else block \")\n",
    "    print(result)\n",
    "finally:\n",
    "    print(\"Thank you\")\n"
   ]
  },
  {
   "cell_type": "code",
   "execution_count": 42,
   "id": "24176f8b",
   "metadata": {},
   "outputs": [
    {
     "name": "stdout",
     "output_type": "stream",
     "text": [
      "0 mt dalo  division by zero\n"
     ]
    }
   ],
   "source": [
    "try:\n",
    "    num =int(input(\"enter a number\"))\n",
    "    result=10/num\n",
    "except Exception as e :\n",
    "    print(\"0 mt dalo \",e )"
   ]
  },
  {
   "cell_type": "code",
   "execution_count": 46,
   "id": "bbc8f2de",
   "metadata": {},
   "outputs": [
    {
     "name": "stdout",
     "output_type": "stream",
     "text": [
      "0 mt dalo  invalid literal for int() with base 10: 'lkjhgcvhjkmn'\n",
      "Thank you\n"
     ]
    }
   ],
   "source": [
    "try:\n",
    "    num =int(input(\"enter a number\"))\n",
    "    result=10/num\n",
    "except (ValueError, ZeroDivisionError) as e :\n",
    "    print(\"0 mt dalo \",e )\n",
    "\n",
    "else:\n",
    "    print(\"this is else block \")\n",
    "    print(result)\n",
    "finally:\n",
    "    print(\"Thank you\")\n"
   ]
  },
  {
   "cell_type": "code",
   "execution_count": 1,
   "id": "1dd72191",
   "metadata": {},
   "outputs": [
    {
     "name": "stdout",
     "output_type": "stream",
     "text": [
      "12\n"
     ]
    }
   ],
   "source": [
    "square=lambda x:x*2\n",
    "print(square(6))\n"
   ]
  },
  {
   "cell_type": "code",
   "execution_count": 2,
   "id": "aa9056fe",
   "metadata": {},
   "outputs": [
    {
     "name": "stdout",
     "output_type": "stream",
     "text": [
      "8\n"
     ]
    }
   ],
   "source": [
    "add=lambda x,y: x+y\n",
    "print(add(3,5))"
   ]
  },
  {
   "cell_type": "code",
   "execution_count": 7,
   "id": "8333efd0",
   "metadata": {},
   "outputs": [],
   "source": [
    "import os \n",
    "os.getcwd()\n",
    "# os.listdir(r\"path\")\n",
    "path=r\"C:\\Users\\kumaw\\OneDrive\\Desktop\\offline\\Data Science 16 june\\Python\""
   ]
  },
  {
   "cell_type": "code",
   "execution_count": 9,
   "id": "9fe80dfa",
   "metadata": {},
   "outputs": [
    {
     "data": {
      "text/plain": [
       "['basic.py', 'conn.ipynb', 'demo.txt', 'demo1.txt', 'file.ipynb', 'new.txt']"
      ]
     },
     "execution_count": 9,
     "metadata": {},
     "output_type": "execute_result"
    }
   ],
   "source": [
    "os.listdir(r\"C:\\Users\\kumaw\\OneDrive\\Desktop\\offline\\Data Science 16 june\\Python\")"
   ]
  },
  {
   "cell_type": "code",
   "execution_count": 10,
   "id": "6ce0b0ab",
   "metadata": {},
   "outputs": [],
   "source": [
    "os.mkdir (\"window\")"
   ]
  },
  {
   "cell_type": "code",
   "execution_count": 11,
   "id": "5b1c2f80",
   "metadata": {},
   "outputs": [],
   "source": [
    "os.rename(\"window\",\"power\")"
   ]
  },
  {
   "cell_type": "code",
   "execution_count": 12,
   "id": "7bc51cb7",
   "metadata": {},
   "outputs": [],
   "source": [
    "os.rmdir(\"power\")"
   ]
  },
  {
   "cell_type": "code",
   "execution_count": 14,
   "id": "193cb277",
   "metadata": {},
   "outputs": [],
   "source": [
    "os.remove(\"new.txt\")"
   ]
  },
  {
   "cell_type": "code",
   "execution_count": null,
   "id": "6dc402c8",
   "metadata": {},
   "outputs": [
    {
     "data": {
      "text/plain": [
       "False"
      ]
     },
     "execution_count": 17,
     "metadata": {},
     "output_type": "execute_result"
    }
   ],
   "source": [
    "os.path.isdir(r\"C:\\Users\\kumaw\\OneDrive\\Desktop\\offline\\Data Science 16 june\\python\")"
   ]
  },
  {
   "cell_type": "code",
   "execution_count": 19,
   "id": "0701a205",
   "metadata": {},
   "outputs": [
    {
     "data": {
      "text/plain": [
       "False"
      ]
     },
     "execution_count": 19,
     "metadata": {},
     "output_type": "execute_result"
    }
   ],
   "source": [
    "os.path.isfile(r\"C:\\Users\\kumaw\\OneDrive\\Desktop\\offline\\Data Science 16 june\\python\\govind.ipynb\")"
   ]
  },
  {
   "cell_type": "code",
   "execution_count": 20,
   "id": "557968ea",
   "metadata": {},
   "outputs": [
    {
     "data": {
      "text/plain": [
       "['basic.py', 'conn.ipynb', 'demo.txt', 'demo1.txt', 'file.ipynb']"
      ]
     },
     "execution_count": 20,
     "metadata": {},
     "output_type": "execute_result"
    }
   ],
   "source": [
    "path1 = r\"C:\\Users\\kumaw\\OneDrive\\Desktop\"\n",
    "path2 = r\"offline\\Data Science 16 june\\python\"\n",
    "path = os.path.join(path1,path2)\n",
    "os.listdir(path)"
   ]
  },
  {
   "cell_type": "code",
   "execution_count": 21,
   "id": "e46eb6ea",
   "metadata": {},
   "outputs": [
    {
     "data": {
      "text/plain": [
       "77"
      ]
     },
     "execution_count": 21,
     "metadata": {},
     "output_type": "execute_result"
    }
   ],
   "source": [
    "os.path.getsize(r\"C:\\Users\\kumaw\\OneDrive\\Desktop\\offline\\Data Science 16 june\\Python\\demo.txt\")"
   ]
  },
  {
   "cell_type": "code",
   "execution_count": null,
   "id": "9a362206",
   "metadata": {},
   "outputs": [
    {
     "data": {
      "text/plain": [
       "0"
      ]
     },
     "execution_count": 22,
     "metadata": {},
     "output_type": "execute_result"
    }
   ],
   "source": [
    "# os.system(\"mkdir power\")\n",
    "# system \n",
    "# env\n",
    "\n",
    "\n",
    "# os.environ."
   ]
  },
  {
   "cell_type": "code",
   "execution_count": null,
   "id": "b8bf8996",
   "metadata": {},
   "outputs": [],
   "source": []
  }
 ],
 "metadata": {
  "kernelspec": {
   "display_name": "Python 3",
   "language": "python",
   "name": "python3"
  },
  "language_info": {
   "codemirror_mode": {
    "name": "ipython",
    "version": 3
   },
   "file_extension": ".py",
   "mimetype": "text/x-python",
   "name": "python",
   "nbconvert_exporter": "python",
   "pygments_lexer": "ipython3",
   "version": "3.11.5"
  }
 },
 "nbformat": 4,
 "nbformat_minor": 5
}
