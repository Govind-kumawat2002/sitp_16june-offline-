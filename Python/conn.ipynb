{
 "cells": [
  {
   "cell_type": "code",
   "execution_count": 1,
   "id": "61bcc7c2",
   "metadata": {},
   "outputs": [],
   "source": [
    "# if\n",
    "#  \n",
    "# else \n",
    "# elif\n"
   ]
  },
  {
   "cell_type": "code",
   "execution_count": null,
   "id": "e4a619fc",
   "metadata": {},
   "outputs": [],
   "source": [
    "# if condtion:\n",
    "#     block of code \n",
    "# else:\n",
    "#     block of code"
   ]
  },
  {
   "cell_type": "code",
   "execution_count": 2,
   "id": "457f4b71",
   "metadata": {},
   "outputs": [],
   "source": [
    "# if condtion:\n",
    "#     block of code \n",
    "# elif multiple condtion:\n",
    "#     block of code\n",
    "# else:\n",
    "#     block of code"
   ]
  },
  {
   "cell_type": "code",
   "execution_count": 4,
   "id": "480bd1d7",
   "metadata": {},
   "outputs": [],
   "source": [
    "x = 5 \n",
    "if x >10:\n",
    "    print(\"x bda hai 10 se \")\n"
   ]
  },
  {
   "cell_type": "code",
   "execution_count": 5,
   "id": "126bc44b",
   "metadata": {},
   "outputs": [
    {
     "name": "stdout",
     "output_type": "stream",
     "text": [
      "x bda hai 10 se \n"
     ]
    }
   ],
   "source": [
    "x = 5 \n",
    "if x <10:\n",
    "    print(\"x bda hai 10 se \")"
   ]
  },
  {
   "cell_type": "code",
   "execution_count": 6,
   "id": "0d0a4e69",
   "metadata": {},
   "outputs": [
    {
     "name": "stdout",
     "output_type": "stream",
     "text": [
      "x chota hai 10 se \n"
     ]
    }
   ],
   "source": [
    "x = 20 \n",
    "if x <10:\n",
    "    print(\"x bda hai 10 se \")\n",
    "else:\n",
    "    print(\"x chota hai 10 se \")"
   ]
  },
  {
   "cell_type": "code",
   "execution_count": 8,
   "id": "4634d734",
   "metadata": {},
   "outputs": [
    {
     "name": "stdout",
     "output_type": "stream",
     "text": [
      "x is 5\n"
     ]
    }
   ],
   "source": [
    "x = 5 \n",
    "if x==10:\n",
    "    print(\"x chota hai 10 se\")\n",
    "elif x ==5:\n",
    "    print(\"x is 5\")\n",
    "else:\n",
    "    print(\"x bda hai 10 se\")\n"
   ]
  },
  {
   "cell_type": "code",
   "execution_count": null,
   "id": "825d4234",
   "metadata": {},
   "outputs": [],
   "source": [
    "x = 5 \n",
    "if x >10:\n",
    " lst = [1,2,3,5]\n",
    " lst.append(x)\n",
    "\n",
    " print(lst)\n",
    "else:\n",
    " lst = [1,2,3,5]\n",
    " lst.remove(x)\n",
    " print(lst)\n",
    " "
   ]
  },
  {
   "cell_type": "code",
   "execution_count": 9,
   "id": "147d7db8",
   "metadata": {},
   "outputs": [
    {
     "name": "stdout",
     "output_type": "stream",
     "text": [
      "1\n",
      "2\n",
      "3\n",
      "4\n",
      "5\n",
      "5\n",
      "5\n"
     ]
    }
   ],
   "source": [
    "lst = [1,2,3,4,5,5,5]\n",
    "for x in lst:\n",
    "    print(x)"
   ]
  },
  {
   "cell_type": "code",
   "execution_count": 10,
   "id": "f5787717",
   "metadata": {},
   "outputs": [
    {
     "name": "stdout",
     "output_type": "stream",
     "text": [
      "0\n",
      "1\n",
      "2\n",
      "3\n",
      "4\n",
      "5\n",
      "6\n",
      "7\n",
      "8\n",
      "9\n"
     ]
    }
   ],
   "source": [
    "for x  in range(10):\n",
    "    print(x)"
   ]
  },
  {
   "cell_type": "code",
   "execution_count": 11,
   "id": "f0af42ff",
   "metadata": {},
   "outputs": [
    {
     "name": "stdout",
     "output_type": "stream",
     "text": [
      "1\n",
      "2\n",
      "3\n",
      "4\n",
      "5\n",
      "6\n",
      "7\n",
      "8\n",
      "9\n"
     ]
    }
   ],
   "source": [
    "for x  in range(1, 10):\n",
    "    print(x)"
   ]
  },
  {
   "cell_type": "code",
   "execution_count": 12,
   "id": "bd2861e7",
   "metadata": {},
   "outputs": [
    {
     "name": "stdout",
     "output_type": "stream",
     "text": [
      "2\n",
      "4\n",
      "6\n",
      "8\n",
      "10\n",
      "12\n",
      "14\n",
      "16\n",
      "18\n",
      "20\n"
     ]
    }
   ],
   "source": [
    "for x  in range(2, 22, 2):\n",
    "    print(x)"
   ]
  },
  {
   "cell_type": "code",
   "execution_count": 13,
   "id": "a41f24eb",
   "metadata": {},
   "outputs": [
    {
     "name": "stdout",
     "output_type": "stream",
     "text": [
      "{'name': 'ritik', 'age': 22, 'phone': 1234567890}\n"
     ]
    }
   ],
   "source": [
    "DCT = {\"name\" : \"ritik\" , \"age\" : 22 , \"phone\" : 1234567890}\n",
    "print(DCT)"
   ]
  },
  {
   "cell_type": "code",
   "execution_count": 14,
   "id": "39e6b313",
   "metadata": {},
   "outputs": [
    {
     "name": "stdout",
     "output_type": "stream",
     "text": [
      "name\n",
      "age\n",
      "phone\n"
     ]
    }
   ],
   "source": [
    "for x in DCT.keys():\n",
    "    print(x)"
   ]
  },
  {
   "cell_type": "code",
   "execution_count": 15,
   "id": "889a5ac9",
   "metadata": {},
   "outputs": [
    {
     "name": "stdout",
     "output_type": "stream",
     "text": [
      "ritik\n",
      "22\n",
      "1234567890\n"
     ]
    }
   ],
   "source": [
    "for x in DCT.values():\n",
    "    print(x)"
   ]
  },
  {
   "cell_type": "code",
   "execution_count": 16,
   "id": "37bda909",
   "metadata": {},
   "outputs": [
    {
     "name": "stdout",
     "output_type": "stream",
     "text": [
      "('name', 'ritik')\n",
      "('age', 22)\n",
      "('phone', 1234567890)\n"
     ]
    }
   ],
   "source": [
    "for x in DCT.items():\n",
    "    print(x)"
   ]
  },
  {
   "cell_type": "code",
   "execution_count": 17,
   "id": "e0792017",
   "metadata": {},
   "outputs": [],
   "source": [
    "def add():\n",
    "    x = 5 \n",
    "    y = 10 \n",
    "    print(x+y)\n"
   ]
  },
  {
   "cell_type": "code",
   "execution_count": 18,
   "id": "3fda9e57",
   "metadata": {},
   "outputs": [
    {
     "name": "stdout",
     "output_type": "stream",
     "text": [
      "15\n"
     ]
    }
   ],
   "source": [
    "add()"
   ]
  },
  {
   "cell_type": "code",
   "execution_count": 19,
   "id": "e41fd835",
   "metadata": {},
   "outputs": [
    {
     "name": "stdout",
     "output_type": "stream",
     "text": [
      "15\n"
     ]
    }
   ],
   "source": [
    "add()"
   ]
  },
  {
   "cell_type": "code",
   "execution_count": 20,
   "id": "a00b46cd",
   "metadata": {},
   "outputs": [
    {
     "name": "stdout",
     "output_type": "stream",
     "text": [
      "15\n"
     ]
    }
   ],
   "source": [
    "add()"
   ]
  },
  {
   "cell_type": "code",
   "execution_count": 21,
   "id": "3f8d08ac",
   "metadata": {},
   "outputs": [],
   "source": [
    "def add(x,y):\n",
    "    print(x+y)\n",
    "    print(x*y)"
   ]
  },
  {
   "cell_type": "code",
   "execution_count": 22,
   "id": "cf0205aa",
   "metadata": {},
   "outputs": [
    {
     "name": "stdout",
     "output_type": "stream",
     "text": [
      "15\n",
      "50\n"
     ]
    }
   ],
   "source": [
    "add(5,10)"
   ]
  },
  {
   "cell_type": "code",
   "execution_count": 23,
   "id": "4427de7f",
   "metadata": {},
   "outputs": [
    {
     "name": "stdout",
     "output_type": "stream",
     "text": [
      "hello world\n"
     ]
    }
   ],
   "source": [
    "print(\"hello world\")"
   ]
  },
  {
   "cell_type": "code",
   "execution_count": 27,
   "id": "41ef77aa",
   "metadata": {},
   "outputs": [
    {
     "name": "stdout",
     "output_type": "stream",
     "text": [
      "my name is ritik and my branch is cse\n",
      "my name is ritik and my branch is cse-ai\n"
     ]
    }
   ],
   "source": [
    "def classroom(name,branch =\"cse\"):\n",
    "    print(f\"my name is {name} and my branch is {branch}\")\n",
    "\n",
    "\n",
    "# CELL:\n",
    "classroom(name = \"ritik\")\n",
    "classroom(name = \"ritik\" , branch = \"cse-ai\")"
   ]
  },
  {
   "cell_type": "code",
   "execution_count": 28,
   "id": "0a6a7c82",
   "metadata": {},
   "outputs": [],
   "source": [
    "# return\n",
    "def add(x,y):\n",
    "    return x+y\n"
   ]
  },
  {
   "cell_type": "code",
   "execution_count": 29,
   "id": "d6354194",
   "metadata": {},
   "outputs": [
    {
     "data": {
      "text/plain": [
       "15"
      ]
     },
     "execution_count": 29,
     "metadata": {},
     "output_type": "execute_result"
    }
   ],
   "source": [
    "add(5,10)"
   ]
  },
  {
   "cell_type": "code",
   "execution_count": 1,
   "id": "5c873229",
   "metadata": {},
   "outputs": [
    {
     "name": "stdout",
     "output_type": "stream",
     "text": [
      "ritik\n",
      "22\n",
      "this is the info method\n"
     ]
    }
   ],
   "source": [
    "class Student:\n",
    "    def info(self):\n",
    "        name = \"ritik\"\n",
    "        age = 22\n",
    "        print(name)\n",
    "        print(age)\n",
    "        print(\"this is the info method\")\n",
    "st_obj=Student()\n",
    "st_obj.info()"
   ]
  },
  {
   "cell_type": "code",
   "execution_count": 5,
   "id": "81a8cc51",
   "metadata": {},
   "outputs": [],
   "source": [
    "class A:\n",
    "    name = \"Ritik\"\n",
    "class B(A):\n",
    "    classroom = \"cse\"\n",
    "\n",
    "obj=B()\n",
    "    "
   ]
  },
  {
   "cell_type": "code",
   "execution_count": 6,
   "id": "b567b42c",
   "metadata": {},
   "outputs": [
    {
     "data": {
      "text/plain": [
       "'Ritik'"
      ]
     },
     "execution_count": 6,
     "metadata": {},
     "output_type": "execute_result"
    }
   ],
   "source": [
    "obj.name"
   ]
  },
  {
   "cell_type": "code",
   "execution_count": 7,
   "id": "27a4dc32",
   "metadata": {},
   "outputs": [],
   "source": [
    "class Grandfather:\n",
    "    pass\n",
    "class Father(Grandfather):\n",
    "    pass\n",
    "class Child(Father):\n",
    "    pass\n",
    "obj =Child()"
   ]
  },
  {
   "cell_type": "code",
   "execution_count": null,
   "id": "2f3aa902",
   "metadata": {},
   "outputs": [],
   "source": [
    "class Father:\n",
    "    pass\n",
    "class Uncle:\n",
    "    pass\n",
    "class Child(Father, Uncle):\n",
    "    pass\n",
    "obj =Child()\n"
   ]
  },
  {
   "cell_type": "code",
   "execution_count": 12,
   "id": "3c356629",
   "metadata": {},
   "outputs": [],
   "source": [
    "class Father:\n",
    "    father_name = \"ritik\"\n",
    "    def info(self):\n",
    "        print(\"this is the info method\")\n",
    "class Uncle:\n",
    "    def information(self):\n",
    "        print(\"this is the info method\")\n",
    "    uncle_name= \"mohanlal\"\n",
    "class Child(Father, Uncle):\n",
    "    name = \"ritik kumaar\"\n",
    "obj =Child()"
   ]
  },
  {
   "cell_type": "code",
   "execution_count": 14,
   "id": "75fe54ea",
   "metadata": {},
   "outputs": [
    {
     "name": "stdout",
     "output_type": "stream",
     "text": [
      "this is the info method\n"
     ]
    }
   ],
   "source": [
    "obj.information()"
   ]
  },
  {
   "cell_type": "code",
   "execution_count": 9,
   "id": "1237a8c3",
   "metadata": {},
   "outputs": [
    {
     "data": {
      "text/plain": [
       "'ritik kumaar'"
      ]
     },
     "execution_count": 9,
     "metadata": {},
     "output_type": "execute_result"
    }
   ],
   "source": [
    "obj.name"
   ]
  },
  {
   "cell_type": "code",
   "execution_count": 10,
   "id": "e2b5ce1c",
   "metadata": {},
   "outputs": [
    {
     "data": {
      "text/plain": [
       "'ritik'"
      ]
     },
     "execution_count": 10,
     "metadata": {},
     "output_type": "execute_result"
    }
   ],
   "source": [
    "obj.father_name"
   ]
  },
  {
   "cell_type": "code",
   "execution_count": 11,
   "id": "f15b4b5e",
   "metadata": {},
   "outputs": [
    {
     "data": {
      "text/plain": [
       "'mohanlal'"
      ]
     },
     "execution_count": 11,
     "metadata": {},
     "output_type": "execute_result"
    }
   ],
   "source": [
    "obj.uncle_name"
   ]
  },
  {
   "cell_type": "code",
   "execution_count": 17,
   "id": "1292e9b3",
   "metadata": {},
   "outputs": [
    {
     "name": "stdout",
     "output_type": "stream",
     "text": [
      "Ritik kumar \n",
      "ritik kumar\n"
     ]
    },
    {
     "ename": "AttributeError",
     "evalue": "'Father' object has no attribute '__father_name'",
     "output_type": "error",
     "traceback": [
      "\u001b[1;31m---------------------------------------------------------------------------\u001b[0m",
      "\u001b[1;31mAttributeError\u001b[0m                            Traceback (most recent call last)",
      "Cell \u001b[1;32mIn[17], line 10\u001b[0m\n\u001b[0;32m      8\u001b[0m \u001b[38;5;28mprint\u001b[39m(obj\u001b[38;5;241m.\u001b[39mfather_name)\n\u001b[0;32m      9\u001b[0m \u001b[38;5;28mprint\u001b[39m(obj\u001b[38;5;241m.\u001b[39m_father_name)\n\u001b[1;32m---> 10\u001b[0m \u001b[38;5;28mprint\u001b[39m(\u001b[43mobj\u001b[49m\u001b[38;5;241;43m.\u001b[39;49m\u001b[43m__father_name\u001b[49m)\n",
      "\u001b[1;31mAttributeError\u001b[0m: 'Father' object has no attribute '__father_name'"
     ]
    }
   ],
   "source": [
    "class Father:\n",
    "    father_name = \"Ritik kumar \" ## public variable\n",
    "    _father_name = \"ritik kumar\" # protected variable\n",
    "    __father_name = \"Rohit kumar\" # private variable\n",
    "\n",
    "\n",
    "obj = Father()\n",
    "print(obj.father_name)\n",
    "print(obj._father_name)\n",
    "print(obj.__father_name)\n",
    " "
   ]
  },
  {
   "cell_type": "code",
   "execution_count": null,
   "id": "c2e9a1bc",
   "metadata": {},
   "outputs": [
    {
     "data": {
      "text/plain": [
       "'Rohit kumar'"
      ]
     },
     "execution_count": 18,
     "metadata": {},
     "output_type": "execute_result"
    }
   ],
   "source": [
    "obj._Father__father_name ### private access"
   ]
  },
  {
   "cell_type": "code",
   "execution_count": 19,
   "id": "1e3e3e4f",
   "metadata": {},
   "outputs": [
    {
     "name": "stdout",
     "output_type": "stream",
     "text": [
      "this is B class method\n"
     ]
    }
   ],
   "source": [
    "class A:\n",
    "    def info(self):\n",
    "        print(\"this is A class method\")\n",
    "class B(A):\n",
    "    def info(self):\n",
    "        print(\"this is B class method\")\n",
    "obj = B()\n",
    "obj.info()"
   ]
  },
  {
   "cell_type": "code",
   "execution_count": 20,
   "id": "0971a9a3",
   "metadata": {},
   "outputs": [
    {
     "name": "stdout",
     "output_type": "stream",
     "text": [
      "this is second method ritik\n"
     ]
    }
   ],
   "source": [
    "class A:\n",
    "    def info(self, name):\n",
    "        print(\"this is first method\",name)\n",
    "\n",
    "    def info(self, age):\n",
    "        print(\"this is second method\",age)\n",
    "\n",
    "A().info(\"ritik\")\n",
    "# A().info(22)"
   ]
  },
  {
   "cell_type": "code",
   "execution_count": 24,
   "id": "b5d97e9d",
   "metadata": {},
   "outputs": [
    {
     "data": {
      "text/plain": [
       "'ritik'"
      ]
     },
     "execution_count": 24,
     "metadata": {},
     "output_type": "execute_result"
    }
   ],
   "source": [
    "class Student:\n",
    "    def __init__(self,name, age):\n",
    "        self.name = name\n",
    "        self.age = age\n",
    "obj=Student(name=\"ritik\",age=22)\n",
    "obj.age\n",
    "obj.name"
   ]
  },
  {
   "cell_type": "code",
   "execution_count": null,
   "id": "eca0ca99",
   "metadata": {},
   "outputs": [],
   "source": [
    "# <__main__.Student at 0x2369230c990>\n",
    "\n",
    "\n",
    "# super()\n",
    "\n"
   ]
  },
  {
   "cell_type": "code",
   "execution_count": 26,
   "id": "b87d5a60",
   "metadata": {},
   "outputs": [
    {
     "name": "stdout",
     "output_type": "stream",
     "text": [
      "ritik\n"
     ]
    }
   ],
   "source": [
    "class Student:\n",
    "    def __init__(self,name, age):\n",
    "        self.name = name\n",
    "        self.age = age\n",
    "\n",
    "\n",
    "    def display(self):\n",
    "        print(self.name)\n",
    "obj=Student(name=\"ritik\",age=22)\n",
    "obj1=Student(name=\"rohit\",age=50)\n",
    "obj.age\n",
    "obj.name\n",
    "obj.display()"
   ]
  },
  {
   "cell_type": "code",
   "execution_count": 27,
   "id": "bc4b434b",
   "metadata": {},
   "outputs": [
    {
     "name": "stdout",
     "output_type": "stream",
     "text": [
      "rohit\n"
     ]
    }
   ],
   "source": [
    "obj1.display()"
   ]
  },
  {
   "cell_type": "code",
   "execution_count": null,
   "id": "5bfde4b4",
   "metadata": {},
   "outputs": [],
   "source": []
  }
 ],
 "metadata": {
  "kernelspec": {
   "display_name": "Python 3",
   "language": "python",
   "name": "python3"
  },
  "language_info": {
   "codemirror_mode": {
    "name": "ipython",
    "version": 3
   },
   "file_extension": ".py",
   "mimetype": "text/x-python",
   "name": "python",
   "nbconvert_exporter": "python",
   "pygments_lexer": "ipython3",
   "version": "3.11.5"
  }
 },
 "nbformat": 4,
 "nbformat_minor": 5
}
